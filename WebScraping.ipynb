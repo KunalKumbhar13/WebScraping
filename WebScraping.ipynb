{
 "cells": [
  {
   "cell_type": "code",
   "execution_count": 2,
   "id": "8d98ddda",
   "metadata": {},
   "outputs": [],
   "source": [
    "import requests\n",
    "import pandas as pd\n",
    "from bs4 import BeautifulSoup"
   ]
  },
  {
   "cell_type": "code",
   "execution_count": 3,
   "id": "24fbc031",
   "metadata": {},
   "outputs": [],
   "source": [
    "# URL of the Wikipedia page\n",
    "url = 'https://en.wikipedia.org/wiki/List_of_countries_by_population_(United_Nations)'"
   ]
  },
  {
   "cell_type": "code",
   "execution_count": 4,
   "id": "86a7f0fa",
   "metadata": {},
   "outputs": [],
   "source": [
    "# Send a GET request to the URL\n",
    "response = requests.get(url)"
   ]
  },
  {
   "cell_type": "code",
   "execution_count": 5,
   "id": "8b830ed8",
   "metadata": {},
   "outputs": [],
   "source": [
    "# Check if the request was successful (status code 200)\n",
    "if response.status_code == 200:\n",
    "    # Parse the HTML content of the page\n",
    "    soup = BeautifulSoup(response.content, 'html.parser')"
   ]
  },
  {
   "cell_type": "code",
   "execution_count": 6,
   "id": "20c2792b",
   "metadata": {},
   "outputs": [],
   "source": [
    "    \n",
    "    # Find the table containing the data (you may need to inspect the page to find the table structure)\n",
    "    table = soup.find('table', {'class': 'wikitable'})"
   ]
  },
  {
   "cell_type": "code",
   "execution_count": 7,
   "id": "217a4303",
   "metadata": {},
   "outputs": [],
   "source": [
    "    # Extract data from the table and create a DataFrame\n",
    "    data = []\n",
    "    for row in table.find_all('tr'):\n",
    "        cols = row.find_all(['th', 'td'])\n",
    "        cols = [col.text.strip() for col in cols]\n",
    "        data.append(cols)"
   ]
  },
  {
   "cell_type": "code",
   "execution_count": 8,
   "id": "17a6396c",
   "metadata": {},
   "outputs": [],
   "source": [
    "    # Create DataFrame\n",
    "    df = pd.DataFrame(data[1:], columns=data[0])"
   ]
  },
  {
   "cell_type": "code",
   "execution_count": 9,
   "id": "9fb3d706",
   "metadata": {},
   "outputs": [
    {
     "name": "stdout",
     "output_type": "stream",
     "text": [
      "                              Location Population(1 July 2022)  \\\n",
      "0                                World           7,975,105,156   \n",
      "1                                India           1,417,173,173   \n",
      "2                             China[a]           1,425,887,337   \n",
      "3                        United States             338,289,857   \n",
      "4                            Indonesia             275,501,339   \n",
      "..                                 ...                     ...   \n",
      "234  Falkland Islands (United Kingdom)                   3,780   \n",
      "235                               Niue                   1,934   \n",
      "236              Tokelau (New Zealand)                   1,871   \n",
      "237                    Vatican City[x]                     510   \n",
      "238  Pitcairn Islands (United Kingdom)                     N/A   \n",
      "\n",
      "    Population(1 July 2023)  Change UN Continental Region[1]  \\\n",
      "0             8,045,311,448  +0.88%                            \n",
      "1             1,428,627,663  +0.81%                     Asia   \n",
      "2             1,425,671,352  −0.02%                     Asia   \n",
      "3               339,996,564  +0.50%                 Americas   \n",
      "4               277,534,123  +0.74%                     Asia   \n",
      "..                      ...     ...                      ...   \n",
      "234                   3,791  +0.29%                 Americas   \n",
      "235                   1,935  +0.05%                  Oceania   \n",
      "236                   1,893  +1.18%                  Oceania   \n",
      "237                     518     N/A                   Europe   \n",
      "238                     N/A     N/A                  Oceania   \n",
      "\n",
      "    UN Statistical Subregion[1]  \n",
      "0                                \n",
      "1                 Southern Asia  \n",
      "2                  Eastern Asia  \n",
      "3              Northern America  \n",
      "4            South-eastern Asia  \n",
      "..                          ...  \n",
      "234               South America  \n",
      "235                   Polynesia  \n",
      "236                   Polynesia  \n",
      "237             Southern Europe  \n",
      "238                   Polynesia  \n",
      "\n",
      "[239 rows x 6 columns]\n"
     ]
    }
   ],
   "source": [
    "    # Display the DataFrame\n",
    "    print(df)"
   ]
  },
  {
   "cell_type": "code",
   "execution_count": 16,
   "id": "227e42a0-03c6-40d6-aa6c-290ab3adbbb0",
   "metadata": {},
   "outputs": [],
   "source": [
    "    # Save the DataFrame to a CSV file\n",
    "    df.to_csv('countries_population.csv', index=False)\n",
    "#     if save=True:\n",
    "\n",
    "#     print(\"Data saved to 'countries_population.csv'\")\n",
    "\n",
    "#     else:\n",
    "#         print(\"Failed to retrieve the webpage\")"
   ]
  },
  {
   "cell_type": "code",
   "execution_count": null,
   "id": "cbfe8b9d-689a-4c65-9f93-8fa7756b8c9f",
   "metadata": {},
   "outputs": [],
   "source": []
  }
 ],
 "metadata": {
  "kernelspec": {
   "display_name": "Python 3 (ipykernel)",
   "language": "python",
   "name": "python3"
  },
  "language_info": {
   "codemirror_mode": {
    "name": "ipython",
    "version": 3
   },
   "file_extension": ".py",
   "mimetype": "text/x-python",
   "name": "python",
   "nbconvert_exporter": "python",
   "pygments_lexer": "ipython3",
   "version": "3.9.12"
  }
 },
 "nbformat": 4,
 "nbformat_minor": 5
}
